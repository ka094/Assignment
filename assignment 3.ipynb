{
 "cells": [
  {
   "cell_type": "code",
   "execution_count": 6,
   "metadata": {},
   "outputs": [
    {
     "ename": "SyntaxError",
     "evalue": "invalid syntax (<ipython-input-6-badf38a102c2>, line 20)",
     "output_type": "error",
     "traceback": [
      "\u001b[1;36m  File \u001b[1;32m\"<ipython-input-6-badf38a102c2>\"\u001b[1;36m, line \u001b[1;32m20\u001b[0m\n\u001b[1;33m    else:\u001b[0m\n\u001b[1;37m       ^\u001b[0m\n\u001b[1;31mSyntaxError\u001b[0m\u001b[1;31m:\u001b[0m invalid syntax\n"
     ]
    }
   ],
   "source": [
    "#\n",
    "\n",
    "val1=input(\"Enter 1st value\")\n",
    "val2=input(\"Enter 2nd value\")\n",
    "operator=input(\"Enter your operator\")\n",
    "val1=int(val1)\n",
    "val2=int(val2)\n",
    "if operator =='+':\n",
    "    val=val1+val2\n",
    "    print(val,\"answer\")\n",
    "elif operator =='-':\n",
    "    val=val1-val2\n",
    "    print(val,\"answer\")\n",
    "elif operator =='*':\n",
    "    val=val1+val2\n",
    "    print(val,\"answer\")\n",
    "elif operator =='/':\n",
    "    val=val1/val2\n",
    "    print(val,\"answer\")\n",
    "    else:\n",
    "    print(\"invalid operator\")"
   ]
  },
  {
   "cell_type": "code",
   "execution_count": null,
   "metadata": {},
   "outputs": [],
   "source": []
  }
 ],
 "metadata": {
  "kernelspec": {
   "display_name": "Python 2",
   "language": "python",
   "name": "python2"
  },
  "language_info": {
   "codemirror_mode": {
    "name": "ipython",
    "version": 2
   },
   "file_extension": ".py",
   "mimetype": "text/x-python",
   "name": "python",
   "nbconvert_exporter": "python",
   "pygments_lexer": "ipython2",
   "version": "2.7.16"
  }
 },
 "nbformat": 4,
 "nbformat_minor": 2
}
